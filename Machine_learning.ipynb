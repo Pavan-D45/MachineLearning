{
  "nbformat": 4,
  "nbformat_minor": 0,
  "metadata": {
    "colab": {
      "provenance": [],
      "authorship_tag": "ABX9TyNhY0uKRPaOW+X6LFvcq3YK",
      "include_colab_link": true
    },
    "kernelspec": {
      "name": "python3",
      "display_name": "Python 3"
    },
    "language_info": {
      "name": "python"
    }
  },
  "cells": [
    {
      "cell_type": "markdown",
      "metadata": {
        "id": "view-in-github",
        "colab_type": "text"
      },
      "source": [
        "<a href=\"https://colab.research.google.com/github/Pavan-D45/MachineLearning/blob/main/Machine_learning.ipynb\" target=\"_parent\"><img src=\"https://colab.research.google.com/assets/colab-badge.svg\" alt=\"Open In Colab\"/></a>"
      ]
    },
    {
      "cell_type": "markdown",
      "source": [
        "# **1.RANDOM FOREST**"
      ],
      "metadata": {
        "id": "IVi446lhxyh0"
      }
    },
    {
      "cell_type": "code",
      "source": [
        "import numpy as np\n",
        "import pandas as pd\n",
        "from sklearn.datasets import load_iris\n",
        "from sklearn.ensemble import RandomForestClassifier\n",
        "from sklearn.linear_model import LogisticRegression\n",
        "from sklearn.model_selection import train_test_split\n",
        "# 1. Loading the Iris dataset\n",
        "iris = load_iris()\n",
        "x=iris.data\n",
        "y=iris.target\n",
        "# Splitting the dataset\n",
        "tr_x, cv_x, tr_y, cv_y = train_test_split(x, y, test_size=0.30, random_state=42)\n",
        "# 3. Choosing and training models\n",
        "rf = RandomForestClassifier(random_state=42)\n",
        "rf.fit(tr_x, tr_y)\n",
        "# 4. Evaluating the models\n",
        "accuracy_rf = rf.score(cv_x, cv_y)\n",
        "print(f\"Accuracy of Random Forest = {accuracy_rf * 100:.2f}%\")\n",
        "# 5. Predicting on test data (using part of the test split)\n",
        "prd = rf.predict(cv_x)\n",
        "# 6. Preparing output\n",
        "output = pd.DataFrame({\n",
        " \"Actual\": cv_y,\n",
        " \"Predicted\": prd\n",
        "}).reset_index(drop=True)\n",
        "print(output.head())\n",
        "# Save to CSV\n",
        "output.to_csv(\"Iris_Predictions.csv\", index=False)"
      ],
      "metadata": {
        "colab": {
          "base_uri": "https://localhost:8080/"
        },
        "id": "oJuVK1i7vvKP",
        "outputId": "d48fdd50-b5d6-42a2-b48c-2948ac2ac479"
      },
      "execution_count": 3,
      "outputs": [
        {
          "output_type": "stream",
          "name": "stdout",
          "text": [
            "Accuracy of Random Forest = 100.00%\n",
            "   Actual  Predicted\n",
            "0       1          1\n",
            "1       0          0\n",
            "2       2          2\n",
            "3       1          1\n",
            "4       1          1\n"
          ]
        }
      ]
    },
    {
      "cell_type": "markdown",
      "source": [
        "# **2.LINEAR REGRESSION**"
      ],
      "metadata": {
        "id": "hZ5jxMt7xn8t"
      }
    },
    {
      "cell_type": "code",
      "source": [
        "# Import necessary libraries\n",
        "import pandas as pd\n",
        "from sklearn.datasets import load_iris\n",
        "from sklearn.linear_model import LinearRegression\n",
        "from sklearn.model_selection import train_test_split\n",
        "from sklearn.metrics import mean_squared_error, r2_score\n",
        "import matplotlib.pyplot as plt\n",
        "# Load the Iris dataset\n",
        "iris = load_iris()\n",
        "X = pd.DataFrame(iris.data, columns=iris.feature_names) # Features\n",
        "y = X['petal width (cm)'] # Target: Petal Width\n",
        "# Remove 'petal width (cm)' from the features to avoid leakage\n",
        "X = X.drop(columns=['petal width (cm)'])\n",
        "7\n",
        "# Split the dataset into training and testing sets (70% train, 30% test)\n",
        "X_train, X_test, y_train, y_test = train_test_split(X, y, test_size=0.3,\n",
        "random_state=42)\n",
        "# Create and train the Linear Regression model\n",
        "linear_model = LinearRegression()\n",
        "linear_model.fit(X_train, y_train)\n",
        "# Make predictions on the training and testing sets\n",
        "y_train_pred = linear_model.predict(X_train)\n",
        "y_test_pred = linear_model.predict(X_test)\n",
        "# Evaluate the model's performance on testing data\n",
        "mse = mean_squared_error(y_test, y_test_pred)\n",
        "r2 = r2_score(y_test, y_test_pred)\n",
        "print(f\"Mean Squared Error: {mse:.2f}\")\n",
        "print(f\"R-squared Score: {r2:.2f}\")\n",
        "# Scatter plot: Actual vs. Predicted for Training Data\n",
        "plt.figure(figsize=(12, 6))\n",
        "plt.subplot(1, 2, 1)\n",
        "plt.scatter(y_train, y_train_pred, color='blue', alpha=0.7)\n",
        "plt.plot([y_train.min(), y_train.max()], [y_train.min(), y_train.max()],\n",
        "color='red', linewidth=2)\n",
        "plt.xlabel('Actual Petal Width (cm)')\n",
        "plt.ylabel('Predicted Petal Width (cm)')\n",
        "plt.title('Training Data: Actual vs. Predicted')\n",
        "# Scatter plot: Actual vs. Predicted for Testing Data\n",
        "plt.subplot(1, 2, 2)\n",
        "plt.scatter(y_test, y_test_pred, color='green', alpha=0.7)\n",
        "plt.plot([y_test.min(), y_test.max()], [y_test.min(), y_test.max()],\n",
        "color='red', linewidth=2)\n",
        "plt.xlabel('Actual Petal Width (cm)')\n",
        "plt.ylabel('Predicted Petal Width (cm)')\n",
        "plt.title('Testing Data: Actual vs. Predicted')\n",
        "# Display the plots\n",
        "plt.tight_layout()\n",
        "plt.show()"
      ],
      "metadata": {
        "colab": {
          "base_uri": "https://localhost:8080/",
          "height": 642
        },
        "id": "CkKJ64gVxaKF",
        "outputId": "f47d1295-87b4-481a-e05f-3d4ca7d118d2"
      },
      "execution_count": 4,
      "outputs": [
        {
          "output_type": "stream",
          "name": "stdout",
          "text": [
            "Mean Squared Error: 0.04\n",
            "R-squared Score: 0.94\n"
          ]
        },
        {
          "output_type": "display_data",
          "data": {
            "text/plain": [
              "<Figure size 1200x600 with 2 Axes>"
            ],
            "image/png": "[encoded data removed]"
          },
          "metadata": {}
        }
      ]
    },
    {
      "cell_type": "markdown",
      "source": [
        "# **3.LOGISTIC REGRESSION**"
      ],
      "metadata": {
        "id": "yP1u_bpnxmiF"
      }
    },
    {
      "cell_type": "code",
      "source": [
        "# Import necessary libraries\n",
        "from sklearn.datasets import load_digits\n",
        "from sklearn.model_selection import train_test_split\n",
        "from sklearn.linear_model import LogisticRegression\n",
        "from sklearn.metrics import accuracy_score, confusion_matrix,classification_report\n",
        "# Load the digits dataset\n",
        "digits = load_digits()\n",
        "# Features (X) and Target (y)\n",
        "X = digits.data # Each row is a flattened image (8x8 pixels)\n",
        "y = digits.target # Target digit (0-9)\n",
        "# Split the dataset into training and testing sets\n",
        "X_train, X_test, y_train, y_test = train_test_split(X, y, test_size=0.3,\n",
        "random_state=42)\n",
        "# Initialize and train the Logistic Regression model\n",
        "model = LogisticRegression(max_iter=1000, solver='lbfgs', multi_class='auto')\n",
        "model.fit(X_train, y_train)\n",
        "# Predict on the test set\n",
        "y_pred = model.predict(X_test)\n",
        "# Evaluate the model\n",
        "9\n",
        "accuracy = accuracy_score(y_test, y_pred)\n",
        "print(f\"Accuracy: {accuracy * 100:.2f}%\")\n",
        "# Confusion Matrix and Classification Report\n",
        "print(\"\\nConfusion Matrix:\")\n",
        "print(confusion_matrix(y_test, y_pred))\n",
        "print(\"\\nClassification Report:\")\n",
        "print(classification_report(y_test, y_pred))"
      ],
      "metadata": {
        "colab": {
          "base_uri": "https://localhost:8080/"
        },
        "id": "_o47IdrNLS9a",
        "outputId": "353c6207-6853-4b4c-b599-406eb7934357"
      },
      "execution_count": 6,
      "outputs": [
        {
          "output_type": "stream",
          "name": "stderr",
          "text": [
            "/usr/local/lib/python3.10/dist-packages/sklearn/linear_model/_logistic.py:1247: FutureWarning: 'multi_class' was deprecated in version 1.5 and will be removed in 1.7. From then on, it will always use 'multinomial'. Leave it to its default value to avoid this warning.\n",
            "  warnings.warn(\n"
          ]
        },
        {
          "output_type": "stream",
          "name": "stdout",
          "text": [
            "Accuracy: 96.85%\n",
            "\n",
            "Confusion Matrix:\n",
            "[[53  0  0  0  0  0  0  0  0  0]\n",
            " [ 0 47  1  0  0  0  0  0  2  0]\n",
            " [ 0  0 47  0  0  0  0  0  0  0]\n",
            " [ 0  0  1 52  0  1  0  0  0  0]\n",
            " [ 0  1  0  0 58  0  1  0  0  0]\n",
            " [ 0  1  0  0  0 63  1  0  0  1]\n",
            " [ 0  0  0  0  0  1 52  0  0  0]\n",
            " [ 0  0  0  0  0  1  0 53  0  1]\n",
            " [ 0  0  0  0  0  1  0  0 42  0]\n",
            " [ 0  0  0  1  0  0  0  0  2 56]]\n",
            "\n",
            "Classification Report:\n",
            "              precision    recall  f1-score   support\n",
            "\n",
            "           0       1.00      1.00      1.00        53\n",
            "           1       0.96      0.94      0.95        50\n",
            "           2       0.96      1.00      0.98        47\n",
            "           3       0.98      0.96      0.97        54\n",
            "           4       1.00      0.97      0.98        60\n",
            "           5       0.94      0.95      0.95        66\n",
            "           6       0.96      0.98      0.97        53\n",
            "           7       1.00      0.96      0.98        55\n",
            "           8       0.91      0.98      0.94        43\n",
            "           9       0.97      0.95      0.96        59\n",
            "\n",
            "    accuracy                           0.97       540\n",
            "   macro avg       0.97      0.97      0.97       540\n",
            "weighted avg       0.97      0.97      0.97       540\n",
            "\n"
          ]
        }
      ]
    },
    {
      "cell_type": "markdown",
      "source": [
        "# **4.Implementation of one clustering algorithm**"
      ],
      "metadata": {
        "id": "4oB-2T30LeUq"
      }
    },
    {
      "cell_type": "code",
      "source": [
        "# Import necessary libraries\n",
        "from sklearn.datasets import load_digits\n",
        "from sklearn.cluster import KMeans\n",
        "from sklearn.metrics import accuracy_score, confusion_matrix\n",
        "from scipy.stats import mode\n",
        "import numpy as np\n",
        "# Load the digits dataset\n",
        "digits = load_digits()\n",
        "X = digits.data # Feature vectors\n",
        "y = digits.target # True labels\n",
        "# Initialize the K-Means model with 10 clusters (one for each digit)\n",
        "kmeans = KMeans(n_clusters=10, random_state=42)\n",
        "kmeans.fit(X)\n",
        "# Predict the cluster labels\n",
        "cluster_labels = kmeans.labels_\n",
        "# Map cluster labels to true labels\n",
        "# Create a mapping between clusters and the most frequent true label in each cluster\n",
        "label_mapping = np.zeros_like(cluster_labels)\n",
        "for i in range(10):\n",
        " mask = (cluster_labels == i)\n",
        " label_mapping[mask] = mode(y[mask])[0]\n",
        "# Calculate the accuracy\n",
        "accuracy = accuracy_score(y, label_mapping)\n",
        "print(f\"K-Means Clustering Accuracy: {accuracy * 100:.2f}%\")\n",
        "# Confusion Matrix\n",
        "print(\"\\nConfusion Matrix:\")\n",
        "print(confusion_matrix(y, label_mapping))"
      ],
      "metadata": {
        "colab": {
          "base_uri": "https://localhost:8080/"
        },
        "id": "cHUKn6SBLqQk",
        "outputId": "5e964b38-2f68-469d-96c0-e9a27e786c65"
      },
      "execution_count": 7,
      "outputs": [
        {
          "output_type": "stream",
          "name": "stdout",
          "text": [
            "K-Means Clustering Accuracy: 86.14%\n",
            "\n",
            "Confusion Matrix:\n",
            "[[176   0   0   0   2   0   0   0   0   0]\n",
            " [  0 130  23   1   0   1   2   0   3  22]\n",
            " [  1   6 146  12   0   0   0   2   9   1]\n",
            " [  0   0   1 159   0   2   0   7   6   8]\n",
            " [  0  13   0   0 159   0   0   5   4   0]\n",
            " [  0   0   0   0   2 137   2   0   0  41]\n",
            " [  1   3   0   0   0   0 176   0   1   0]\n",
            " [  0   0   0   0   0   0   0 169  10   0]\n",
            " [  0  14   3   0   0   2   1   2 136  16]\n",
            " [  0   1   0   1   3   4   0   8   3 160]]\n"
          ]
        }
      ]
    },
    {
      "cell_type": "markdown",
      "source": [
        "# **5.SVM with logistic regression**"
      ],
      "metadata": {
        "id": "DOz9G5wCL80_"
      }
    },
    {
      "cell_type": "code",
      "source": [
        "# Import necessary libraries\n",
        "from sklearn.datasets import load_digits\n",
        "from sklearn.model_selection import train_test_split\n",
        "from sklearn.linear_model import LogisticRegression\n",
        "from sklearn.svm import SVC\n",
        "from sklearn.metrics import accuracy_score, classification_report, confusion_matrix\n",
        "# Load the digits dataset\n",
        "digits = load_digits()\n",
        "# Features (X) and Target (y)\n",
        "X = digits.data\n",
        "y = digits.target\n",
        "# Split the dataset into training and testing sets\n",
        "X_train, X_test, y_train, y_test = train_test_split(X, y, test_size=0.3, random_state=42)\n",
        "# Logistic Regression Model\n",
        "logistic_model = LogisticRegression(max_iter=1000, solver='lbfgs', multi_class='auto')\n",
        "logistic_model.fit(X_train, y_train)\n",
        "y_pred_logistic = logistic_model.predict(X_test)\n",
        "# SVM Model (with RBF kernel)\n",
        "svm_model = SVC(kernel='rbf', gamma='scale', C=1.0)\n",
        "svm_model.fit(X_train, y_train)\n",
        "y_pred_svm = svm_model.predict(X_test)\n",
        "# Calculate accuracies\n",
        "logistic_accuracy = accuracy_score(y_test, y_pred_logistic)\n",
        "svm_accuracy = accuracy_score(y_test, y_pred_svm)\n",
        "# Print results\n",
        "print(f\"Logistic Regression Accuracy: {logistic_accuracy * 100:.2f}%\")\n",
        "print(f\"SVM Accuracy: {svm_accuracy * 100:.2f}%\")\n",
        "# Confusion Matrix and Classification Report for SVM\n",
        "print(\"\\nConfusion Matrix (SVM):\")\n",
        "print(confusion_matrix(y_test, y_pred_svm))\n",
        "print(\"\\nClassification Report (SVM):\")\n",
        "print(classification_report(y_test, y_pred_svm))"
      ],
      "metadata": {
        "colab": {
          "base_uri": "https://localhost:8080/"
        },
        "id": "Y6KnW5KfMHQ6",
        "outputId": "5c3db326-0f66-4829-eaef-243cc5af70ce"
      },
      "execution_count": 8,
      "outputs": [
        {
          "output_type": "stream",
          "name": "stderr",
          "text": [
            "/usr/local/lib/python3.10/dist-packages/sklearn/linear_model/_logistic.py:1247: FutureWarning: 'multi_class' was deprecated in version 1.5 and will be removed in 1.7. From then on, it will always use 'multinomial'. Leave it to its default value to avoid this warning.\n",
            "  warnings.warn(\n"
          ]
        },
        {
          "output_type": "stream",
          "name": "stdout",
          "text": [
            "Logistic Regression Accuracy: 96.85%\n",
            "SVM Accuracy: 98.70%\n",
            "\n",
            "Confusion Matrix (SVM):\n",
            "[[53  0  0  0  0  0  0  0  0  0]\n",
            " [ 0 50  0  0  0  0  0  0  0  0]\n",
            " [ 0  0 47  0  0  0  0  0  0  0]\n",
            " [ 0  0  0 53  0  0  0  0  1  0]\n",
            " [ 0  0  0  0 60  0  0  0  0  0]\n",
            " [ 0  0  0  0  0 65  1  0  0  0]\n",
            " [ 0  0  0  0  0  0 53  0  0  0]\n",
            " [ 0  0  0  0  0  0  0 54  0  1]\n",
            " [ 0  0  0  0  0  0  0  0 42  1]\n",
            " [ 0  0  0  1  0  0  0  1  1 56]]\n",
            "\n",
            "Classification Report (SVM):\n",
            "              precision    recall  f1-score   support\n",
            "\n",
            "           0       1.00      1.00      1.00        53\n",
            "           1       1.00      1.00      1.00        50\n",
            "           2       1.00      1.00      1.00        47\n",
            "           3       0.98      0.98      0.98        54\n",
            "           4       1.00      1.00      1.00        60\n",
            "           5       1.00      0.98      0.99        66\n",
            "           6       0.98      1.00      0.99        53\n",
            "           7       0.98      0.98      0.98        55\n",
            "           8       0.95      0.98      0.97        43\n",
            "           9       0.97      0.95      0.96        59\n",
            "\n",
            "    accuracy                           0.99       540\n",
            "   macro avg       0.99      0.99      0.99       540\n",
            "weighted avg       0.99      0.99      0.99       540\n",
            "\n"
          ]
        }
      ]
    },
    {
      "cell_type": "markdown",
      "source": [
        "# **6.SVM Multiclass classification**"
      ],
      "metadata": {
        "id": "RV-QKJvlMNFX"
      }
    },
    {
      "cell_type": "code",
      "source": [
        "import numpy as np\n",
        "import pandas as pd\n",
        "from sklearn.datasets import load_iris\n",
        "from sklearn.model_selection import train_test_split\n",
        "from sklearn.svm import SVC\n",
        "from sklearn.metrics import classification_report, accuracy_score\n",
        "# 1. Loading the Iris dataset\n",
        "iris = load_iris()\n",
        "data = pd.DataFrame(data=iris.data, columns=iris.feature_names)\n",
        "data['target'] = iris.target\n",
        "# 2. Data preprocessing\n",
        "# Feature matrix (X) and target vector (y)\n",
        "X = data[iris.feature_names]\n",
        "y = data['target']\n",
        "# Splitting the dataset\n",
        "tr_x, cv_x, tr_y, cv_y = train_test_split(X, y, test_size=0.30, random_state=42)\n",
        "# 3. Choosing and training the SVM model\n",
        "svm_model = SVC(kernel='linear', random_state=42)\n",
        "svm_model.fit(tr_x, tr_y)\n",
        "# 4. Predicting on the test set\n",
        "predictions = svm_model.predict(cv_x)\n",
        "# 5. Evaluating the model\n",
        "accuracy = accuracy_score(cv_y, predictions)\n",
        "print(f\"Accuracy of SVM = {accuracy * 100:.2f}%\\n\")\n",
        "print(\"Classification Report:\")\n",
        "print(classification_report(cv_y, predictions, target_names=iris.target_names))\n",
        "# 6. Output predictions\n",
        "output = pd.DataFrame({\n",
        " \"Actual\": cv_y,\n",
        " \"Predicted\": predictions\n",
        "}).reset_index(drop=True)\n",
        "print(output.head())\n",
        "# Save predictions to CSV\n",
        "output.to_csv(\"Iris_SVM_Predictions.csv\", index=False)\n"
      ],
      "metadata": {
        "colab": {
          "base_uri": "https://localhost:8080/"
        },
        "id": "JjcVS4NQMbIr",
        "outputId": "adb6340d-3e95-4183-c970-a20b0684b56c"
      },
      "execution_count": 9,
      "outputs": [
        {
          "output_type": "stream",
          "name": "stdout",
          "text": [
            "Accuracy of SVM = 100.00%\n",
            "\n",
            "Classification Report:\n",
            "              precision    recall  f1-score   support\n",
            "\n",
            "      setosa       1.00      1.00      1.00        19\n",
            "  versicolor       1.00      1.00      1.00        13\n",
            "   virginica       1.00      1.00      1.00        13\n",
            "\n",
            "    accuracy                           1.00        45\n",
            "   macro avg       1.00      1.00      1.00        45\n",
            "weighted avg       1.00      1.00      1.00        45\n",
            "\n",
            "   Actual  Predicted\n",
            "0       1          1\n",
            "1       0          0\n",
            "2       2          2\n",
            "3       1          1\n",
            "4       1          1\n"
          ]
        }
      ]
    },
    {
      "cell_type": "markdown",
      "source": [
        "#  7.Naïve Bayesian Classifier model\n",
        "\n"
      ],
      "metadata": {
        "id": "pDY9XxyPM0g2"
      }
    },
    {
      "cell_type": "code",
      "source": [
        "from sklearn.datasets import load_wine\n",
        "from sklearn.model_selection import train_test_split\n",
        "from sklearn.naive_bayes import GaussianNB\n",
        "from sklearn.metrics import accuracy_score, classification_report\n",
        "# Load Wine dataset\n",
        "data = load_wine()\n",
        "X = data.data # Features\n",
        "y = data.target # Target variable (wine class)\n",
        "# Convert the problem to binary classification: Class 0 (Yes = 1) vs Others (No = 0)\n",
        "y_binary = (y == 0).astype(int) # Class 0 vs others\n",
        "# Split dataset into training and test sets\n",
        "X_train, X_test, y_train, y_test = train_test_split(X, y_binary, test_size=0.2, random_state=42)\n",
        "# Initialize Gaussian Naive Bayes classifier\n",
        "gnb = GaussianNB()\n",
        "# Train the model\n",
        "gnb.fit(X_train, y_train)\n",
        "# Predict on the test set\n",
        "y_pred = gnb.predict(X_test)\n",
        "# Evaluate the model's performance\n",
        "print(f\"Accuracy: {accuracy_score(y_test, y_pred)}\")\n",
        "print(\"\\nClassification Report:\\n\", classification_report(y_test, y_pred))\n",
        "# Predict on a new data point (example wine features)\n",
        "new_data = [[13.0, 2.0, 2.5, 15.0, 100.0, 2.8, 2.1, 0.3, 1.8, 6.0, 1.0, 3.0, 750]]\n",
        "# Predict if it's Class 0 (Yes = 1) or not (No = 0)\n",
        "prediction = gnb.predict(new_data)\n",
        "# Output prediction\n",
        "if prediction[0] == 1:\n",
        " print(\"Prediction: Yes (Class 0 Wine)\")\n",
        "else:\n",
        " print(\"Prediction: No (Not Class 0 Wine)\")"
      ],
      "metadata": {
        "colab": {
          "base_uri": "https://localhost:8080/"
        },
        "id": "JGuIW0WcNHl5",
        "outputId": "32637d0c-8203-4ec6-ddb7-4d18ddfa5b0f"
      },
      "execution_count": 10,
      "outputs": [
        {
          "output_type": "stream",
          "name": "stdout",
          "text": [
            "Accuracy: 0.9722222222222222\n",
            "\n",
            "Classification Report:\n",
            "               precision    recall  f1-score   support\n",
            "\n",
            "           0       1.00      0.95      0.98        22\n",
            "           1       0.93      1.00      0.97        14\n",
            "\n",
            "    accuracy                           0.97        36\n",
            "   macro avg       0.97      0.98      0.97        36\n",
            "weighted avg       0.97      0.97      0.97        36\n",
            "\n",
            "Prediction: Yes (Class 0 Wine)\n"
          ]
        }
      ]
    }
  ]
}